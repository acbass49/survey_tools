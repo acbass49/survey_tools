{
 "cells": [
  {
   "cell_type": "markdown",
   "metadata": {},
   "source": [
    "# Introduction to the `survey_tools` Package\n",
    "\n",
    "For this small vignette, I show the four primary functions available in the package: `tabs`, `rake_weight`, `recode`, and `get_names`"
   ]
  },
  {
   "cell_type": "code",
   "execution_count": 5,
   "metadata": {},
   "outputs": [],
   "source": [
    "# Load in Packages\n",
    "from survey_tools.survey_tools import tabs, rake_weight, recode, get_names\n",
    "import pandas as pd\n",
    "import numpy as np\n",
    "import os"
   ]
  },
  {
   "cell_type": "markdown",
   "metadata": {},
   "source": [
    "I am importing a survey dataset I have worked on in the past - the [American Family Survey](https://csed.byu.edu/american-family-survey). Which is a national panel survey N ≈ 3000 studying American Family trends over time."
   ]
  },
  {
   "cell_type": "code",
   "execution_count": 30,
   "metadata": {},
   "outputs": [
    {
     "name": "stdout",
     "output_type": "stream",
     "text": [
      "(3000, 413)\n"
     ]
    },
    {
     "data": {
      "text/html": [
       "<div>\n",
       "<style scoped>\n",
       "    .dataframe tbody tr th:only-of-type {\n",
       "        vertical-align: middle;\n",
       "    }\n",
       "\n",
       "    .dataframe tbody tr th {\n",
       "        vertical-align: top;\n",
       "    }\n",
       "\n",
       "    .dataframe thead th {\n",
       "        text-align: right;\n",
       "    }\n",
       "</style>\n",
       "<table border=\"1\" class=\"dataframe\">\n",
       "  <thead>\n",
       "    <tr style=\"text-align: right;\">\n",
       "      <th></th>\n",
       "      <th>caseid</th>\n",
       "      <th>weight</th>\n",
       "      <th>PAR006_treat</th>\n",
       "      <th>FAMTAX007_treat</th>\n",
       "      <th>s21_MSC001</th>\n",
       "      <th>s21_MSC003</th>\n",
       "      <th>s21_MSC003_b_1</th>\n",
       "      <th>s21_MSC003_b_2</th>\n",
       "      <th>s21_MSC003_b_3</th>\n",
       "      <th>s21_MSC003_c</th>\n",
       "      <th>...</th>\n",
       "      <th>votereg</th>\n",
       "      <th>ideo5</th>\n",
       "      <th>newsint</th>\n",
       "      <th>religpew</th>\n",
       "      <th>pew_churatd</th>\n",
       "      <th>pew_bornagain</th>\n",
       "      <th>pew_religimp</th>\n",
       "      <th>pew_prayer</th>\n",
       "      <th>starttime</th>\n",
       "      <th>endtime</th>\n",
       "    </tr>\n",
       "  </thead>\n",
       "  <tbody>\n",
       "    <tr>\n",
       "      <th>0</th>\n",
       "      <td>1492039695</td>\n",
       "      <td>0.698217</td>\n",
       "      <td>Show rows: The coronavirus pandemic and Racial...</td>\n",
       "      <td>Treatment 1 (\"pull parents away\")</td>\n",
       "      <td>Not currently in a committed relationship</td>\n",
       "      <td>NaN</td>\n",
       "      <td>not selected</td>\n",
       "      <td>not selected</td>\n",
       "      <td>selected</td>\n",
       "      <td>NaN</td>\n",
       "      <td>...</td>\n",
       "      <td>Yes</td>\n",
       "      <td>Very liberal</td>\n",
       "      <td>Most of the time</td>\n",
       "      <td>Protestant</td>\n",
       "      <td>Once a week</td>\n",
       "      <td>No</td>\n",
       "      <td>Very important</td>\n",
       "      <td>Once a day</td>\n",
       "      <td>1.940257e+12</td>\n",
       "      <td>1.940258e+12</td>\n",
       "    </tr>\n",
       "    <tr>\n",
       "      <th>1</th>\n",
       "      <td>1492042119</td>\n",
       "      <td>1.195809</td>\n",
       "      <td>Show rows: The coronavirus pandemic and Racial...</td>\n",
       "      <td>Treatment 2 (\"encourage poverty\")</td>\n",
       "      <td>Not currently in a committed relationship</td>\n",
       "      <td>NaN</td>\n",
       "      <td>selected</td>\n",
       "      <td>not selected</td>\n",
       "      <td>not selected</td>\n",
       "      <td>2005</td>\n",
       "      <td>...</td>\n",
       "      <td>Yes</td>\n",
       "      <td>Conservative</td>\n",
       "      <td>Most of the time</td>\n",
       "      <td>Roman Catholic</td>\n",
       "      <td>Never</td>\n",
       "      <td>No</td>\n",
       "      <td>Somewhat important</td>\n",
       "      <td>Seldom</td>\n",
       "      <td>1.940257e+12</td>\n",
       "      <td>1.940258e+12</td>\n",
       "    </tr>\n",
       "    <tr>\n",
       "      <th>2</th>\n",
       "      <td>1492870805</td>\n",
       "      <td>1.155043</td>\n",
       "      <td>Show rows: The coronavirus pandemic and Racial...</td>\n",
       "      <td>Control</td>\n",
       "      <td>Married</td>\n",
       "      <td>7 years</td>\n",
       "      <td>not selected</td>\n",
       "      <td>not selected</td>\n",
       "      <td>selected</td>\n",
       "      <td>NaN</td>\n",
       "      <td>...</td>\n",
       "      <td>Yes</td>\n",
       "      <td>Moderate</td>\n",
       "      <td>Don't know</td>\n",
       "      <td>Nothing in particular</td>\n",
       "      <td>Never</td>\n",
       "      <td>No</td>\n",
       "      <td>Not at all important</td>\n",
       "      <td>Never</td>\n",
       "      <td>1.940258e+12</td>\n",
       "      <td>1.940258e+12</td>\n",
       "    </tr>\n",
       "    <tr>\n",
       "      <th>3</th>\n",
       "      <td>1492850287</td>\n",
       "      <td>0.771161</td>\n",
       "      <td>No extra rows on PAR006</td>\n",
       "      <td>Treatment 2 (\"encourage poverty\")</td>\n",
       "      <td>Not currently in a committed relationship</td>\n",
       "      <td>NaN</td>\n",
       "      <td>not selected</td>\n",
       "      <td>selected</td>\n",
       "      <td>not selected</td>\n",
       "      <td>NaN</td>\n",
       "      <td>...</td>\n",
       "      <td>Yes</td>\n",
       "      <td>Moderate</td>\n",
       "      <td>Most of the time</td>\n",
       "      <td>Roman Catholic</td>\n",
       "      <td>Seldom</td>\n",
       "      <td>No</td>\n",
       "      <td>Somewhat important</td>\n",
       "      <td>A few times a week</td>\n",
       "      <td>1.940257e+12</td>\n",
       "      <td>1.940258e+12</td>\n",
       "    </tr>\n",
       "    <tr>\n",
       "      <th>4</th>\n",
       "      <td>1492863669</td>\n",
       "      <td>0.810394</td>\n",
       "      <td>No extra rows on PAR006</td>\n",
       "      <td>Treatment 1 (\"pull parents away\")</td>\n",
       "      <td>Currently in a committed relationship, but not...</td>\n",
       "      <td>NaN</td>\n",
       "      <td>selected</td>\n",
       "      <td>not selected</td>\n",
       "      <td>not selected</td>\n",
       "      <td>2005</td>\n",
       "      <td>...</td>\n",
       "      <td>Don't know</td>\n",
       "      <td>Conservative</td>\n",
       "      <td>Some of the time</td>\n",
       "      <td>Nothing in particular</td>\n",
       "      <td>Seldom</td>\n",
       "      <td>No</td>\n",
       "      <td>Not at all important</td>\n",
       "      <td>A few times a week</td>\n",
       "      <td>1.940257e+12</td>\n",
       "      <td>1.940258e+12</td>\n",
       "    </tr>\n",
       "  </tbody>\n",
       "</table>\n",
       "<p>5 rows × 413 columns</p>\n",
       "</div>"
      ],
      "text/plain": [
       "       caseid    weight                                       PAR006_treat  \\\n",
       "0  1492039695  0.698217  Show rows: The coronavirus pandemic and Racial...   \n",
       "1  1492042119  1.195809  Show rows: The coronavirus pandemic and Racial...   \n",
       "2  1492870805  1.155043  Show rows: The coronavirus pandemic and Racial...   \n",
       "3  1492850287  0.771161                            No extra rows on PAR006   \n",
       "4  1492863669  0.810394                            No extra rows on PAR006   \n",
       "\n",
       "                     FAMTAX007_treat  \\\n",
       "0  Treatment 1 (\"pull parents away\")   \n",
       "1  Treatment 2 (\"encourage poverty\")   \n",
       "2                            Control   \n",
       "3  Treatment 2 (\"encourage poverty\")   \n",
       "4  Treatment 1 (\"pull parents away\")   \n",
       "\n",
       "                                          s21_MSC001 s21_MSC003  \\\n",
       "0          Not currently in a committed relationship        NaN   \n",
       "1          Not currently in a committed relationship        NaN   \n",
       "2                                            Married    7 years   \n",
       "3          Not currently in a committed relationship        NaN   \n",
       "4  Currently in a committed relationship, but not...        NaN   \n",
       "\n",
       "  s21_MSC003_b_1 s21_MSC003_b_2 s21_MSC003_b_3 s21_MSC003_c  ...     votereg  \\\n",
       "0   not selected   not selected       selected          NaN  ...         Yes   \n",
       "1       selected   not selected   not selected         2005  ...         Yes   \n",
       "2   not selected   not selected       selected          NaN  ...         Yes   \n",
       "3   not selected       selected   not selected          NaN  ...         Yes   \n",
       "4       selected   not selected   not selected         2005  ...  Don't know   \n",
       "\n",
       "          ideo5           newsint               religpew  pew_churatd  \\\n",
       "0  Very liberal  Most of the time             Protestant  Once a week   \n",
       "1  Conservative  Most of the time         Roman Catholic        Never   \n",
       "2      Moderate        Don't know  Nothing in particular        Never   \n",
       "3      Moderate  Most of the time         Roman Catholic       Seldom   \n",
       "4  Conservative  Some of the time  Nothing in particular       Seldom   \n",
       "\n",
       "  pew_bornagain          pew_religimp          pew_prayer     starttime  \\\n",
       "0            No        Very important          Once a day  1.940257e+12   \n",
       "1            No    Somewhat important              Seldom  1.940257e+12   \n",
       "2            No  Not at all important               Never  1.940258e+12   \n",
       "3            No    Somewhat important  A few times a week  1.940257e+12   \n",
       "4            No  Not at all important  A few times a week  1.940257e+12   \n",
       "\n",
       "        endtime  \n",
       "0  1.940258e+12  \n",
       "1  1.940258e+12  \n",
       "2  1.940258e+12  \n",
       "3  1.940258e+12  \n",
       "4  1.940258e+12  \n",
       "\n",
       "[5 rows x 413 columns]"
      ]
     },
     "execution_count": 30,
     "metadata": {},
     "output_type": "execute_result"
    }
   ],
   "source": [
    "link = 'https://csed.byu.edu/00000183-a4c5-d2da-abe3-feed7be30001/2021data'\n",
    "data = pd.read_stata(link)\n",
    "print(data.shape)\n",
    "data.head()"
   ]
  },
  {
   "cell_type": "markdown",
   "metadata": {},
   "source": [
    "Let's start by looking at a few tabs"
   ]
  },
  {
   "cell_type": "code",
   "execution_count": 31,
   "metadata": {},
   "outputs": [
    {
     "data": {
      "text/plain": [
       "Most of the time     1510\n",
       "Some of the time      759\n",
       "Only now and then     385\n",
       "Hardly at all         211\n",
       "Don't know            135\n",
       "NaN                     0\n",
       "dtype: int64"
      ]
     },
     "execution_count": 31,
     "metadata": {},
     "output_type": "execute_result"
    }
   ],
   "source": [
    "tabs(data, 'newsint', dropna=False)"
   ]
  },
  {
   "cell_type": "markdown",
   "metadata": {},
   "source": [
    "As you can see from the above, we have tabulated news interest and we can see that there are no missing values as `NaN` is 0.\n",
    "\n",
    "Let's collapse this variables into more dense categories"
   ]
  },
  {
   "cell_type": "code",
   "execution_count": 32,
   "metadata": {},
   "outputs": [
    {
     "data": {
      "text/plain": [
       "0       1\n",
       "1       1\n",
       "2       0\n",
       "3       1\n",
       "4       0\n",
       "       ..\n",
       "2995    1\n",
       "2996    1\n",
       "2997    1\n",
       "2998    0\n",
       "2999    1\n",
       "Name: newsint_rc, Length: 3000, dtype: int8"
      ]
     },
     "execution_count": 32,
     "metadata": {},
     "output_type": "execute_result"
    }
   ],
   "source": [
    "data['newsint'] = data.newsint.cat.codes\n",
    "data['newsint_rc'] = recode(data, 'newsint', \"0=1;1:5=0\")\n",
    "data['newsint_rc']"
   ]
  },
  {
   "cell_type": "markdown",
   "metadata": {},
   "source": [
    "We've now recoded these, so T1B news interested is 1 and everything else is 0.\n",
    "\n",
    "Now lets look at this tabulated by religion"
   ]
  },
  {
   "cell_type": "code",
   "execution_count": 33,
   "metadata": {},
   "outputs": [
    {
     "data": {
      "text/plain": [
       "Protestant                   830\n",
       "Roman Catholic               559\n",
       "Mormon                        37\n",
       "Eastern or Greek Orthodox     17\n",
       "Jewish                        92\n",
       "Muslim                        29\n",
       "Buddhist                      31\n",
       "Hindu                          9\n",
       "Atheist                      244\n",
       "Agnostic                     209\n",
       "Nothing in particular        667\n",
       "Something else               276\n",
       "NaN                            0\n",
       "dtype: int64"
      ]
     },
     "execution_count": 33,
     "metadata": {},
     "output_type": "execute_result"
    }
   ],
   "source": [
    "tabs(data, 'religpew', dropna=False)"
   ]
  },
  {
   "cell_type": "code",
   "execution_count": 38,
   "metadata": {},
   "outputs": [
    {
     "data": {
      "text/html": [
       "<div>\n",
       "<style scoped>\n",
       "    .dataframe tbody tr th:only-of-type {\n",
       "        vertical-align: middle;\n",
       "    }\n",
       "\n",
       "    .dataframe tbody tr th {\n",
       "        vertical-align: top;\n",
       "    }\n",
       "\n",
       "    .dataframe thead th {\n",
       "        text-align: right;\n",
       "    }\n",
       "</style>\n",
       "<table border=\"1\" class=\"dataframe\">\n",
       "  <thead>\n",
       "    <tr style=\"text-align: right;\">\n",
       "      <th></th>\n",
       "      <th>1</th>\n",
       "      <th>0</th>\n",
       "    </tr>\n",
       "  </thead>\n",
       "  <tbody>\n",
       "    <tr>\n",
       "      <th>Buddhist</th>\n",
       "      <td>67.7</td>\n",
       "      <td>32.3</td>\n",
       "    </tr>\n",
       "    <tr>\n",
       "      <th>Atheist</th>\n",
       "      <td>63.1</td>\n",
       "      <td>36.9</td>\n",
       "    </tr>\n",
       "    <tr>\n",
       "      <th>Jewish</th>\n",
       "      <td>62.0</td>\n",
       "      <td>38.0</td>\n",
       "    </tr>\n",
       "    <tr>\n",
       "      <th>Agnostic</th>\n",
       "      <td>57.4</td>\n",
       "      <td>42.6</td>\n",
       "    </tr>\n",
       "    <tr>\n",
       "      <th>Protestant</th>\n",
       "      <td>53.0</td>\n",
       "      <td>47.0</td>\n",
       "    </tr>\n",
       "    <tr>\n",
       "      <th>Eastern or Greek Orthodox</th>\n",
       "      <td>52.9</td>\n",
       "      <td>47.1</td>\n",
       "    </tr>\n",
       "    <tr>\n",
       "      <th>Roman Catholic</th>\n",
       "      <td>52.1</td>\n",
       "      <td>47.9</td>\n",
       "    </tr>\n",
       "    <tr>\n",
       "      <th>Something else</th>\n",
       "      <td>44.9</td>\n",
       "      <td>55.1</td>\n",
       "    </tr>\n",
       "    <tr>\n",
       "      <th>Nothing in particular</th>\n",
       "      <td>40.2</td>\n",
       "      <td>59.8</td>\n",
       "    </tr>\n",
       "    <tr>\n",
       "      <th>Muslim</th>\n",
       "      <td>37.9</td>\n",
       "      <td>62.1</td>\n",
       "    </tr>\n",
       "    <tr>\n",
       "      <th>Mormon</th>\n",
       "      <td>37.8</td>\n",
       "      <td>62.2</td>\n",
       "    </tr>\n",
       "    <tr>\n",
       "      <th>Hindu</th>\n",
       "      <td>11.1</td>\n",
       "      <td>88.9</td>\n",
       "    </tr>\n",
       "  </tbody>\n",
       "</table>\n",
       "</div>"
      ],
      "text/plain": [
       "                              1     0\n",
       "Buddhist                   67.7  32.3\n",
       "Atheist                    63.1  36.9\n",
       "Jewish                     62.0  38.0\n",
       "Agnostic                   57.4  42.6\n",
       "Protestant                 53.0  47.0\n",
       "Eastern or Greek Orthodox  52.9  47.1\n",
       "Roman Catholic             52.1  47.9\n",
       "Something else             44.9  55.1\n",
       "Nothing in particular      40.2  59.8\n",
       "Muslim                     37.9  62.1\n",
       "Mormon                     37.8  62.2\n",
       "Hindu                      11.1  88.9"
      ]
     },
     "execution_count": 38,
     "metadata": {},
     "output_type": "execute_result"
    }
   ],
   "source": [
    "tabs(data, 'religpew', 'newsint_rc', display=\"row\").sort_values(1, ascending=False)"
   ]
  },
  {
   "cell_type": "markdown",
   "metadata": {},
   "source": [
    "Looking for a weighting variable to use for tabs..."
   ]
  },
  {
   "cell_type": "code",
   "execution_count": 41,
   "metadata": {},
   "outputs": [
    {
     "data": {
      "text/plain": [
       "['weight',\n",
       " 'faminc_new',\n",
       " 'newsint',\n",
       " 'religpew',\n",
       " 'pew_churatd',\n",
       " 'pew_bornagain',\n",
       " 'pew_religimp',\n",
       " 'pew_prayer',\n",
       " 'newsint_rc']"
      ]
     },
     "execution_count": 41,
     "metadata": {},
     "output_type": "execute_result"
    }
   ],
   "source": [
    "get_names(data,'w')"
   ]
  },
  {
   "cell_type": "code",
   "execution_count": 42,
   "metadata": {},
   "outputs": [
    {
     "data": {
      "text/html": [
       "<div>\n",
       "<style scoped>\n",
       "    .dataframe tbody tr th:only-of-type {\n",
       "        vertical-align: middle;\n",
       "    }\n",
       "\n",
       "    .dataframe tbody tr th {\n",
       "        vertical-align: top;\n",
       "    }\n",
       "\n",
       "    .dataframe thead th {\n",
       "        text-align: right;\n",
       "    }\n",
       "</style>\n",
       "<table border=\"1\" class=\"dataframe\">\n",
       "  <thead>\n",
       "    <tr style=\"text-align: right;\">\n",
       "      <th></th>\n",
       "      <th>1</th>\n",
       "      <th>0</th>\n",
       "    </tr>\n",
       "  </thead>\n",
       "  <tbody>\n",
       "    <tr>\n",
       "      <th>Buddhist</th>\n",
       "      <td>62.0</td>\n",
       "      <td>38.0</td>\n",
       "    </tr>\n",
       "    <tr>\n",
       "      <th>Atheist</th>\n",
       "      <td>59.3</td>\n",
       "      <td>40.7</td>\n",
       "    </tr>\n",
       "    <tr>\n",
       "      <th>Jewish</th>\n",
       "      <td>58.6</td>\n",
       "      <td>41.4</td>\n",
       "    </tr>\n",
       "    <tr>\n",
       "      <th>Agnostic</th>\n",
       "      <td>54.2</td>\n",
       "      <td>45.8</td>\n",
       "    </tr>\n",
       "    <tr>\n",
       "      <th>Protestant</th>\n",
       "      <td>52.6</td>\n",
       "      <td>47.4</td>\n",
       "    </tr>\n",
       "    <tr>\n",
       "      <th>Roman Catholic</th>\n",
       "      <td>50.6</td>\n",
       "      <td>49.4</td>\n",
       "    </tr>\n",
       "    <tr>\n",
       "      <th>Eastern or Greek Orthodox</th>\n",
       "      <td>47.3</td>\n",
       "      <td>52.7</td>\n",
       "    </tr>\n",
       "    <tr>\n",
       "      <th>Something else</th>\n",
       "      <td>44.0</td>\n",
       "      <td>56.0</td>\n",
       "    </tr>\n",
       "    <tr>\n",
       "      <th>Muslim</th>\n",
       "      <td>43.5</td>\n",
       "      <td>56.5</td>\n",
       "    </tr>\n",
       "    <tr>\n",
       "      <th>Nothing in particular</th>\n",
       "      <td>37.8</td>\n",
       "      <td>62.2</td>\n",
       "    </tr>\n",
       "    <tr>\n",
       "      <th>Mormon</th>\n",
       "      <td>31.3</td>\n",
       "      <td>68.7</td>\n",
       "    </tr>\n",
       "    <tr>\n",
       "      <th>Hindu</th>\n",
       "      <td>5.0</td>\n",
       "      <td>95.0</td>\n",
       "    </tr>\n",
       "  </tbody>\n",
       "</table>\n",
       "</div>"
      ],
      "text/plain": [
       "                              1     0\n",
       "Buddhist                   62.0  38.0\n",
       "Atheist                    59.3  40.7\n",
       "Jewish                     58.6  41.4\n",
       "Agnostic                   54.2  45.8\n",
       "Protestant                 52.6  47.4\n",
       "Roman Catholic             50.6  49.4\n",
       "Eastern or Greek Orthodox  47.3  52.7\n",
       "Something else             44.0  56.0\n",
       "Muslim                     43.5  56.5\n",
       "Nothing in particular      37.8  62.2\n",
       "Mormon                     31.3  68.7\n",
       "Hindu                       5.0  95.0"
      ]
     },
     "execution_count": 42,
     "metadata": {},
     "output_type": "execute_result"
    }
   ],
   "source": [
    "tabs(data, 'religpew', 'newsint_rc', display=\"row\", wts='weight').sort_values(1, ascending=False)"
   ]
  },
  {
   "cell_type": "code",
   "execution_count": 44,
   "metadata": {},
   "outputs": [
    {
     "data": {
      "text/plain": [
       "Protestant                   830\n",
       "Roman Catholic               559\n",
       "Mormon                        37\n",
       "Eastern or Greek Orthodox     17\n",
       "Jewish                        92\n",
       "Muslim                        29\n",
       "Buddhist                      31\n",
       "Hindu                          9\n",
       "Atheist                      244\n",
       "Agnostic                     209\n",
       "Nothing in particular        667\n",
       "Something else               276\n",
       "dtype: int64"
      ]
     },
     "execution_count": 44,
     "metadata": {},
     "output_type": "execute_result"
    }
   ],
   "source": [
    "tabs(data, 'religpew')"
   ]
  },
  {
   "cell_type": "markdown",
   "metadata": {},
   "source": [
    "I'll also now test out the raking function"
   ]
  },
  {
   "cell_type": "code",
   "execution_count": 46,
   "metadata": {},
   "outputs": [
    {
     "data": {
      "text/plain": [
       "['s21_MSC014_gender_child1',\n",
       " 's21_MSC014_gender_child2',\n",
       " 's21_MSC014_gender_child3',\n",
       " 's21_MSC014_gender_child4',\n",
       " 's21_MSC014_gender_child5',\n",
       " 's21_MSC014_gender_child6',\n",
       " 's21_MSC014_gender_child7',\n",
       " 's21_MSC014_gender_child8',\n",
       " 'Pick5to18Child_gender',\n",
       " 'gender']"
      ]
     },
     "execution_count": 46,
     "metadata": {},
     "output_type": "execute_result"
    }
   ],
   "source": [
    "get_names(data,\"gender\")"
   ]
  },
  {
   "cell_type": "code",
   "execution_count": 58,
   "metadata": {},
   "outputs": [
    {
     "data": {
      "text/plain": [
       "3    35.1\n",
       "2    26.8\n",
       "4    19.6\n",
       "1    18.6\n",
       "dtype: float64"
      ]
     },
     "execution_count": 58,
     "metadata": {},
     "output_type": "execute_result"
    }
   ],
   "source": [
    "data['age'] = 2021 - data.birthyr\n",
    "data['age_rc'] = recode(data, 'age', '0:30=1;31:45=2;46:65=3;66:120=4')\n",
    "tabs(data, 'age_rc', display='column')"
   ]
  },
  {
   "cell_type": "code",
   "execution_count": 60,
   "metadata": {},
   "outputs": [
    {
     "name": "stderr",
     "output_type": "stream",
     "text": [
      "/Library/Frameworks/Python.framework/Versions/3.11/lib/python3.11/site-packages/survey_tools/survey_tools.py:266: UserWarning: Column dtype changed from CATEGORY to CATEGORY.\n",
      "  warnings.warn(f'Column dtype changed from {str(original_dt).upper()} to {str(exp_dt).upper()}.')\n"
     ]
    },
    {
     "data": {
      "text/plain": [
       "1    46.8\n",
       "2    53.2\n",
       "dtype: float64"
      ]
     },
     "execution_count": 60,
     "metadata": {},
     "output_type": "execute_result"
    }
   ],
   "source": [
    "data['gender_rc'] = recode(data, 'gender', '\"Male\"=1;\"Female\"=2')\n",
    "tabs(data, 'gender_rc', display='column')"
   ]
  },
  {
   "cell_type": "code",
   "execution_count": 61,
   "metadata": {},
   "outputs": [
    {
     "name": "stdout",
     "output_type": "stream",
     "text": [
      "Variable:  gender\n",
      "Male      50.0\n",
      "Female    50.0\n",
      "dtype: float64\n",
      "Variable:  age_rc\n",
      "3    35.0\n",
      "2    25.0\n",
      "4    20.0\n",
      "1    20.0\n",
      "dtype: float64\n",
      "\n",
      "            Iterations: 1\n",
      "            Max Weight: 1.1487352180792596\n",
      "            Min Weight: 0.876682464644851\n",
      "            \n"
     ]
    }
   ],
   "source": [
    "true_props = pd.DataFrame({\n",
    "    'Names':['gender','gender','age_rc','age_rc','age_rc','age_rc',],\n",
    "    'Levels':['Male', 'Female',1,2,3,4],\n",
    "    'Proportions':[0.5,0.5,0.2,0.25,0.35,0.2],\n",
    "})\n",
    "\n",
    "data_w_new_wts = rake_weight(data, true_props, weight_nm='new_weight')"
   ]
  }
 ],
 "metadata": {
  "kernelspec": {
   "display_name": "Python 3",
   "language": "python",
   "name": "python3"
  },
  "language_info": {
   "codemirror_mode": {
    "name": "ipython",
    "version": 3
   },
   "file_extension": ".py",
   "mimetype": "text/x-python",
   "name": "python",
   "nbconvert_exporter": "python",
   "pygments_lexer": "ipython3",
   "version": "3.11.0"
  }
 },
 "nbformat": 4,
 "nbformat_minor": 2
}
